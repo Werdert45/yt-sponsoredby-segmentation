{
 "cells": [
  {
   "cell_type": "code",
   "execution_count": 31,
   "metadata": {},
   "outputs": [],
   "source": [
    "import pandas as pd\n",
    "import numpy as np\n",
    "from nltk.metrics import pk, windowdiff\n",
    "from sklearn.metrics import f1_score"
   ]
  },
  {
   "cell_type": "code",
   "execution_count": 32,
   "metadata": {},
   "outputs": [],
   "source": [
    "lstm = pd.read_json('results_4.json')\n",
    "baseline = pd.read_json('logistic_results.json')"
   ]
  },
  {
   "cell_type": "code",
   "execution_count": 33,
   "metadata": {},
   "outputs": [
    {
     "data": {
      "text/html": [
       "<div>\n",
       "<style scoped>\n",
       "    .dataframe tbody tr th:only-of-type {\n",
       "        vertical-align: middle;\n",
       "    }\n",
       "\n",
       "    .dataframe tbody tr th {\n",
       "        vertical-align: top;\n",
       "    }\n",
       "\n",
       "    .dataframe thead th {\n",
       "        text-align: right;\n",
       "    }\n",
       "</style>\n",
       "<table border=\"1\" class=\"dataframe\">\n",
       "  <thead>\n",
       "    <tr style=\"text-align: right;\">\n",
       "      <th></th>\n",
       "      <th>real</th>\n",
       "      <th>prediction</th>\n",
       "    </tr>\n",
       "  </thead>\n",
       "  <tbody>\n",
       "    <tr>\n",
       "      <th>0</th>\n",
       "      <td>[0, 0, 0, 0, 0, 0, 0, 0, 0, 0, 0, 0, 0, 0, 0, ...</td>\n",
       "      <td>[[0], [0], [0], [0], [0], [0], [0], [0], [0], ...</td>\n",
       "    </tr>\n",
       "    <tr>\n",
       "      <th>1</th>\n",
       "      <td>[1, 1, 1, 1, 1, 1, 1, 1, 1, 1, 1, 1, 1, 1, 1, ...</td>\n",
       "      <td>[[1], [1], [1], [1], [1], [1], [1], [1], [1], ...</td>\n",
       "    </tr>\n",
       "    <tr>\n",
       "      <th>2</th>\n",
       "      <td>[0, 0, 0, 0, 0, 0, 0, 0, 0, 0, 0, 0, 0, 0, 0, ...</td>\n",
       "      <td>[[0], [0], [0], [0], [0], [0], [0], [0], [0], ...</td>\n",
       "    </tr>\n",
       "    <tr>\n",
       "      <th>3</th>\n",
       "      <td>[1, 1, 1, 1, 1, 1, 1, 1, 1, 1, 1, 1, 1, 1, 1, ...</td>\n",
       "      <td>[[0], [0], [0], [0], [1], [1], [1], [1], [1], ...</td>\n",
       "    </tr>\n",
       "    <tr>\n",
       "      <th>4</th>\n",
       "      <td>[1, 1, 1, 1, 1, 1, 1, 1, 1, 1, 1, 1, 1, 1, 1, ...</td>\n",
       "      <td>[[1], [1], [1], [1], [1], [1], [1], [1], [1], ...</td>\n",
       "    </tr>\n",
       "  </tbody>\n",
       "</table>\n",
       "</div>"
      ],
      "text/plain": [
       "                                                real  \\\n",
       "0  [0, 0, 0, 0, 0, 0, 0, 0, 0, 0, 0, 0, 0, 0, 0, ...   \n",
       "1  [1, 1, 1, 1, 1, 1, 1, 1, 1, 1, 1, 1, 1, 1, 1, ...   \n",
       "2  [0, 0, 0, 0, 0, 0, 0, 0, 0, 0, 0, 0, 0, 0, 0, ...   \n",
       "3  [1, 1, 1, 1, 1, 1, 1, 1, 1, 1, 1, 1, 1, 1, 1, ...   \n",
       "4  [1, 1, 1, 1, 1, 1, 1, 1, 1, 1, 1, 1, 1, 1, 1, ...   \n",
       "\n",
       "                                          prediction  \n",
       "0  [[0], [0], [0], [0], [0], [0], [0], [0], [0], ...  \n",
       "1  [[1], [1], [1], [1], [1], [1], [1], [1], [1], ...  \n",
       "2  [[0], [0], [0], [0], [0], [0], [0], [0], [0], ...  \n",
       "3  [[0], [0], [0], [0], [1], [1], [1], [1], [1], ...  \n",
       "4  [[1], [1], [1], [1], [1], [1], [1], [1], [1], ...  "
      ]
     },
     "metadata": {},
     "output_type": "display_data"
    },
    {
     "data": {
      "text/html": [
       "<div>\n",
       "<style scoped>\n",
       "    .dataframe tbody tr th:only-of-type {\n",
       "        vertical-align: middle;\n",
       "    }\n",
       "\n",
       "    .dataframe tbody tr th {\n",
       "        vertical-align: top;\n",
       "    }\n",
       "\n",
       "    .dataframe thead th {\n",
       "        text-align: right;\n",
       "    }\n",
       "</style>\n",
       "<table border=\"1\" class=\"dataframe\">\n",
       "  <thead>\n",
       "    <tr style=\"text-align: right;\">\n",
       "      <th></th>\n",
       "      <th>real</th>\n",
       "      <th>prediction</th>\n",
       "    </tr>\n",
       "  </thead>\n",
       "  <tbody>\n",
       "    <tr>\n",
       "      <th>0</th>\n",
       "      <td>[0, 0, 0, 0, 0, 0, 0, 0, 0, 0, 0, 0, 0, 0, 0, ...</td>\n",
       "      <td>[1, 1, 1, 1, 1, 1, 1, 1, 1, 1, 1, 1, 1, 1, 1, ...</td>\n",
       "    </tr>\n",
       "    <tr>\n",
       "      <th>1</th>\n",
       "      <td>[1, 1, 1, 1, 1, 1, 1, 1, 1, 1, 1, 1, 1, 1, 1, ...</td>\n",
       "      <td>[1, 1, 1, 1, 1, 1, 1, 1, 1, 0, 1, 1, 1, 1, 1, ...</td>\n",
       "    </tr>\n",
       "    <tr>\n",
       "      <th>2</th>\n",
       "      <td>[0, 0, 0, 0, 0, 0, 0, 0, 0, 0, 0, 0, 0, 0, 0, ...</td>\n",
       "      <td>[0, 1, 0, 0, 0, 0, 0, 0, 0, 1, 1, 1, 0, 1, 1, ...</td>\n",
       "    </tr>\n",
       "    <tr>\n",
       "      <th>3</th>\n",
       "      <td>[1, 1, 1, 1, 1, 1, 1, 1, 1, 1, 1, 1, 1, 1, 1, ...</td>\n",
       "      <td>[1, 1, 0, 1, 1, 1, 0, 1, 1, 1, 1, 1, 1, 0, 0, ...</td>\n",
       "    </tr>\n",
       "    <tr>\n",
       "      <th>4</th>\n",
       "      <td>[1, 1, 1, 1, 1, 1, 1, 1, 1, 1, 1, 1, 1, 1, 1, ...</td>\n",
       "      <td>[1, 1, 1, 1, 1, 1, 1, 1, 1, 1, 1, 1, 1, 1, 1, ...</td>\n",
       "    </tr>\n",
       "  </tbody>\n",
       "</table>\n",
       "</div>"
      ],
      "text/plain": [
       "                                                real  \\\n",
       "0  [0, 0, 0, 0, 0, 0, 0, 0, 0, 0, 0, 0, 0, 0, 0, ...   \n",
       "1  [1, 1, 1, 1, 1, 1, 1, 1, 1, 1, 1, 1, 1, 1, 1, ...   \n",
       "2  [0, 0, 0, 0, 0, 0, 0, 0, 0, 0, 0, 0, 0, 0, 0, ...   \n",
       "3  [1, 1, 1, 1, 1, 1, 1, 1, 1, 1, 1, 1, 1, 1, 1, ...   \n",
       "4  [1, 1, 1, 1, 1, 1, 1, 1, 1, 1, 1, 1, 1, 1, 1, ...   \n",
       "\n",
       "                                          prediction  \n",
       "0  [1, 1, 1, 1, 1, 1, 1, 1, 1, 1, 1, 1, 1, 1, 1, ...  \n",
       "1  [1, 1, 1, 1, 1, 1, 1, 1, 1, 0, 1, 1, 1, 1, 1, ...  \n",
       "2  [0, 1, 0, 0, 0, 0, 0, 0, 0, 1, 1, 1, 0, 1, 1, ...  \n",
       "3  [1, 1, 0, 1, 1, 1, 0, 1, 1, 1, 1, 1, 1, 0, 0, ...  \n",
       "4  [1, 1, 1, 1, 1, 1, 1, 1, 1, 1, 1, 1, 1, 1, 1, ...  "
      ]
     },
     "metadata": {},
     "output_type": "display_data"
    }
   ],
   "source": [
    "display(lstm.head())\n",
    "display(baseline.head())"
   ]
  },
  {
   "cell_type": "code",
   "execution_count": 34,
   "metadata": {},
   "outputs": [],
   "source": [
    "lstm['prediction'] = lstm['prediction'].apply(lambda x: [item for sublist in x for item in sublist])"
   ]
  },
  {
   "cell_type": "code",
   "execution_count": 35,
   "metadata": {},
   "outputs": [
    {
     "name": "stdout",
     "output_type": "stream",
     "text": [
      "0.756217629630308\n",
      "0.7251191779128181\n",
      "0.7761630436275879\n"
     ]
    }
   ],
   "source": [
    "# Fraction of advetisement sentences\n",
    "print(sum(lstm['real'].apply(sum)) / sum(lstm['real'].apply(len)))\n",
    "print(sum(lstm['prediction'].apply(sum)) / sum(lstm['prediction'].apply(len)))\n",
    "print(sum(baseline['prediction'].apply(sum)) / sum(baseline['prediction'].apply(len)))"
   ]
  },
  {
   "cell_type": "code",
   "execution_count": 36,
   "metadata": {},
   "outputs": [],
   "source": [
    "def convert_to_boundaries(x):\n",
    "    \"\"\"\n",
    "    Convert a list of binary values into a string of boundary markers.\n",
    "\n",
    "    Parameters:\n",
    "    x (list): A list of binary values (0s and 1s).\n",
    "\n",
    "    Returns:\n",
    "    str: A string where '1' indicates a boundary.\n",
    "    \"\"\"\n",
    "    x = \"\".join(map(str, x))\n",
    "    res = \"\"\n",
    "\n",
    "    for i in range(len(x)):\n",
    "        if i != 0:\n",
    "            if x[i] != x[i-1]:\n",
    "                res += '1'\n",
    "            else:\n",
    "                res += '0'\n",
    "        else:\n",
    "            res += '0'\n",
    "\n",
    "    return res"
   ]
  },
  {
   "cell_type": "code",
   "execution_count": 37,
   "metadata": {},
   "outputs": [],
   "source": [
    "lstm['true_boundaries'] = lstm['real'].apply(convert_to_boundaries)\n",
    "lstm['pred_boundaries'] = lstm['prediction'].apply(convert_to_boundaries)\n",
    "\n",
    "baseline['true_boundaries'] = baseline['real'].apply(convert_to_boundaries)\n",
    "baseline['pred_boundaries'] = baseline['prediction'].apply(convert_to_boundaries)"
   ]
  },
  {
   "cell_type": "code",
   "execution_count": 38,
   "metadata": {},
   "outputs": [],
   "source": [
    "def calculate_windowdiff(row):\n",
    "    y_true = row['true_boundaries']\n",
    "    y_pred = row['pred_boundaries']\n",
    "\n",
    "    if y_true.count('1') != 0:\n",
    "        k = int(round(len(y_true) / (y_true.count('1') * 2.0)))\n",
    "    else:\n",
    "        k = int(round(len(y_true) / 2.0))\n",
    "\n",
    "    return windowdiff(y_true, y_pred, k)"
   ]
  },
  {
   "cell_type": "code",
   "execution_count": 39,
   "metadata": {},
   "outputs": [],
   "source": [
    "def calculate_pk(row):\n",
    "    y_true = row['true_boundaries']\n",
    "    y_pred = row['pred_boundaries']\n",
    "\n",
    "    if y_true.count('1') != 0:\n",
    "        k = int(round(len(y_true) / (y_true.count('1') * 2.0)))\n",
    "    else:\n",
    "        k = int(round(len(y_true) / 2.0))\n",
    "\n",
    "    return pk(y_true, y_pred, k)"
   ]
  },
  {
   "cell_type": "code",
   "execution_count": 40,
   "metadata": {},
   "outputs": [],
   "source": [
    "lstm['windowdiff'] = lstm.apply(calculate_windowdiff, axis=1)\n",
    "lstm['pk'] = lstm.apply(calculate_pk, axis=1)\n",
    "\n",
    "baseline['windowdiff'] = baseline.apply(calculate_windowdiff, axis=1)\n",
    "baseline['pk'] = baseline.apply(calculate_pk, axis=1)"
   ]
  },
  {
   "cell_type": "code",
   "execution_count": 41,
   "metadata": {},
   "outputs": [],
   "source": [
    "def weighted_average(col):\n",
    "    weighted_sum = (col * lstm['real'].apply(len)).sum()\n",
    "    sum_of_weights = lstm['real'].apply(len).sum()\n",
    "\n",
    "    res = weighted_sum / sum_of_weights\n",
    "    return res"
   ]
  },
  {
   "cell_type": "code",
   "execution_count": 42,
   "metadata": {},
   "outputs": [],
   "source": [
    "y_true_lstm = [item for sublist in lstm['real'] for item in sublist]\n",
    "y_pred_lstm = [item for sublist in lstm['prediction'] for item in sublist]"
   ]
  },
  {
   "cell_type": "code",
   "execution_count": 43,
   "metadata": {},
   "outputs": [],
   "source": [
    "y_true_baseline = [item for sublist in baseline['real'] for item in sublist]\n",
    "y_pred_baseline = [item for sublist in baseline['prediction'] for item in sublist]"
   ]
  },
  {
   "cell_type": "code",
   "execution_count": 44,
   "metadata": {},
   "outputs": [
    {
     "name": "stdout",
     "output_type": "stream",
     "text": [
      "windowdiff: 15.59%\n",
      "pk: 12.05%\n",
      "macro f1: 86.15%\n",
      "micro f1: 89.36%\n"
     ]
    }
   ],
   "source": [
    "print(f\"windowdiff: {weighted_average(lstm['windowdiff']) * 100:.2f}%\")\n",
    "print(f\"pk: {weighted_average(lstm['pk']) * 100:.2f}%\")\n",
    "print(f\"macro f1: {f1_score(y_true_lstm, y_pred_lstm, average='macro') * 100:.2f}%\")\n",
    "print(f\"micro f1: {f1_score(y_true_lstm, y_pred_lstm, average='micro') * 100:.2f}%\")"
   ]
  },
  {
   "cell_type": "code",
   "execution_count": 45,
   "metadata": {},
   "outputs": [
    {
     "name": "stdout",
     "output_type": "stream",
     "text": [
      "windowdiff: 99.14%\n",
      "pk: 76.00%\n",
      "macro f1: 56.61%\n",
      "micro f1: 68.91%\n"
     ]
    }
   ],
   "source": [
    "print(f\"windowdiff: {weighted_average(baseline['windowdiff']) * 100:.2f}%\")\n",
    "print(f\"pk: {weighted_average(baseline['pk']) * 100:.2f}%\")\n",
    "print(f\"macro f1: {f1_score(y_true_baseline, y_pred_baseline, average='macro') * 100:.2f}%\")\n",
    "print(f\"micro f1: {f1_score(y_true_baseline, y_pred_baseline, average='micro') * 100:.2f}%\")"
   ]
  }
 ],
 "metadata": {
  "kernelspec": {
   "display_name": "Python 3",
   "language": "python",
   "name": "python3"
  },
  "language_info": {
   "codemirror_mode": {
    "name": "ipython",
    "version": 3
   },
   "file_extension": ".py",
   "mimetype": "text/x-python",
   "name": "python",
   "nbconvert_exporter": "python",
   "pygments_lexer": "ipython3",
   "version": "3.11.5"
  }
 },
 "nbformat": 4,
 "nbformat_minor": 2
}
