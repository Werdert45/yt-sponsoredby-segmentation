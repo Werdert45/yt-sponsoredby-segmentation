{
  "cells": [
    {
      "cell_type": "code",
      "source": [
        "!pip install pymongo"
      ],
      "metadata": {
        "colab": {
          "base_uri": "https://localhost:8080/"
        },
        "id": "g9oml8lRGNwn",
        "outputId": "07b85284-c8dd-428e-8b7c-2d2f2d604a3e"
      },
      "id": "g9oml8lRGNwn",
      "execution_count": 4,
      "outputs": [
        {
          "output_type": "stream",
          "name": "stdout",
          "text": [
            "Collecting pymongo\n",
            "  Downloading pymongo-4.7.2-cp310-cp310-manylinux_2_17_x86_64.manylinux2014_x86_64.whl (670 kB)\n",
            "\u001b[2K     \u001b[90m━━━━━━━━━━━━━━━━━━━━━━━━━━━━━━━━━━━━━━━━\u001b[0m \u001b[32m670.0/670.0 kB\u001b[0m \u001b[31m10.5 MB/s\u001b[0m eta \u001b[36m0:00:00\u001b[0m\n",
            "\u001b[?25hCollecting dnspython<3.0.0,>=1.16.0 (from pymongo)\n",
            "  Downloading dnspython-2.6.1-py3-none-any.whl (307 kB)\n",
            "\u001b[2K     \u001b[90m━━━━━━━━━━━━━━━━━━━━━━━━━━━━━━━━━━━━━━━━\u001b[0m \u001b[32m307.7/307.7 kB\u001b[0m \u001b[31m29.0 MB/s\u001b[0m eta \u001b[36m0:00:00\u001b[0m\n",
            "\u001b[?25hInstalling collected packages: dnspython, pymongo\n",
            "Successfully installed dnspython-2.6.1 pymongo-4.7.2\n"
          ]
        }
      ]
    },
    {
      "cell_type": "code",
      "execution_count": 5,
      "id": "8ee42899-91d7-485d-b7df-1481bef0ccc8",
      "metadata": {
        "id": "8ee42899-91d7-485d-b7df-1481bef0ccc8"
      },
      "outputs": [],
      "source": [
        "from pymongo import MongoClient\n",
        "from tqdm import tqdm\n",
        "import json\n",
        "import pandas as pd\n",
        "import numpy as np"
      ]
    },
    {
      "cell_type": "code",
      "execution_count": 2,
      "id": "18d08920-18d3-40d0-9e52-3e508efb45d0",
      "metadata": {
        "id": "18d08920-18d3-40d0-9e52-3e508efb45d0"
      },
      "outputs": [],
      "source": [
        "import json\n",
        "with open('my_dict.json', 'r') as file:\n",
        "    data = json.load(file)"
      ]
    },
    {
      "cell_type": "code",
      "source": [
        "client = MongoClient('mongodb://49.13.173.177:27020/')\n",
        "embs = client.sponsoredbye.embeddings\n",
        "\n",
        "embeddings = []\n",
        "labels = []\n",
        "\n",
        "for n in tqdm(data['4']):\n",
        "  temp_embs = []\n",
        "  cursor = embs.find({'videoID':n})\n",
        "  if cursor[0]['label'] == False:\n",
        "    continue\n",
        "  l = cursor[0]['label']\n",
        "  e =  cursor[0]['embeddings']\n",
        "  for m in e:\n",
        "    temp_embs.append(m['embedding'])\n",
        "  embeddings.append(temp_embs)\n",
        "  labels.append(l)\n"
      ],
      "metadata": {
        "colab": {
          "base_uri": "https://localhost:8080/"
        },
        "id": "3VUYCbENu99u",
        "outputId": "a3a122f3-526c-4a5a-e828-28626cccca75"
      },
      "id": "3VUYCbENu99u",
      "execution_count": 6,
      "outputs": [
        {
          "output_type": "stream",
          "name": "stderr",
          "text": [
            "100%|██████████| 1981/1981 [12:08<00:00,  2.72it/s]\n"
          ]
        }
      ]
    },
    {
      "cell_type": "markdown",
      "id": "6abacad4-ea5a-4e91-821c-07ac5e87876e",
      "metadata": {
        "id": "6abacad4-ea5a-4e91-821c-07ac5e87876e"
      },
      "source": [
        "#Logistic Classifier"
      ]
    },
    {
      "cell_type": "markdown",
      "id": "787b668a-ce1e-43aa-914b-6ac5938bd97c",
      "metadata": {
        "id": "787b668a-ce1e-43aa-914b-6ac5938bd97c"
      },
      "source": [
        "### Extract embeddings and labels + padding"
      ]
    },
    {
      "cell_type": "code",
      "source": [
        "X_train = [elm for x in embeddings for elm in x]\n",
        "y_train = [elm for x in labels for elm in x]"
      ],
      "metadata": {
        "id": "MYQVs7MfG2y7"
      },
      "id": "MYQVs7MfG2y7",
      "execution_count": 16,
      "outputs": []
    },
    {
      "cell_type": "code",
      "source": [
        "from sklearn.linear_model import LogisticRegression"
      ],
      "metadata": {
        "id": "wsfJdt8CEnGp"
      },
      "id": "wsfJdt8CEnGp",
      "execution_count": 9,
      "outputs": []
    },
    {
      "cell_type": "code",
      "source": [
        "logistic_class = LogisticRegression(random_state=0\n",
        "                                     ,n_jobs=-1\n",
        "                                     ,max_iter = 10000\n",
        "                                     ,solver='lbfgs'\n",
        "                                     ,multi_class='auto'\n",
        "                                     ,C = 1 )\n",
        "logistic_class.fit(X_train , y_train)"
      ],
      "metadata": {
        "colab": {
          "base_uri": "https://localhost:8080/",
          "height": 75
        },
        "id": "KAhSScyOEr88",
        "outputId": "991b7e4d-b772-4f08-bd47-8c5e799c1e80"
      },
      "id": "KAhSScyOEr88",
      "execution_count": 18,
      "outputs": [
        {
          "output_type": "execute_result",
          "data": {
            "text/plain": [
              "LogisticRegression(C=1, max_iter=10000, n_jobs=-1, random_state=0)"
            ],
            "text/html": [
              "<style>#sk-container-id-1 {color: black;background-color: white;}#sk-container-id-1 pre{padding: 0;}#sk-container-id-1 div.sk-toggleable {background-color: white;}#sk-container-id-1 label.sk-toggleable__label {cursor: pointer;display: block;width: 100%;margin-bottom: 0;padding: 0.3em;box-sizing: border-box;text-align: center;}#sk-container-id-1 label.sk-toggleable__label-arrow:before {content: \"▸\";float: left;margin-right: 0.25em;color: #696969;}#sk-container-id-1 label.sk-toggleable__label-arrow:hover:before {color: black;}#sk-container-id-1 div.sk-estimator:hover label.sk-toggleable__label-arrow:before {color: black;}#sk-container-id-1 div.sk-toggleable__content {max-height: 0;max-width: 0;overflow: hidden;text-align: left;background-color: #f0f8ff;}#sk-container-id-1 div.sk-toggleable__content pre {margin: 0.2em;color: black;border-radius: 0.25em;background-color: #f0f8ff;}#sk-container-id-1 input.sk-toggleable__control:checked~div.sk-toggleable__content {max-height: 200px;max-width: 100%;overflow: auto;}#sk-container-id-1 input.sk-toggleable__control:checked~label.sk-toggleable__label-arrow:before {content: \"▾\";}#sk-container-id-1 div.sk-estimator input.sk-toggleable__control:checked~label.sk-toggleable__label {background-color: #d4ebff;}#sk-container-id-1 div.sk-label input.sk-toggleable__control:checked~label.sk-toggleable__label {background-color: #d4ebff;}#sk-container-id-1 input.sk-hidden--visually {border: 0;clip: rect(1px 1px 1px 1px);clip: rect(1px, 1px, 1px, 1px);height: 1px;margin: -1px;overflow: hidden;padding: 0;position: absolute;width: 1px;}#sk-container-id-1 div.sk-estimator {font-family: monospace;background-color: #f0f8ff;border: 1px dotted black;border-radius: 0.25em;box-sizing: border-box;margin-bottom: 0.5em;}#sk-container-id-1 div.sk-estimator:hover {background-color: #d4ebff;}#sk-container-id-1 div.sk-parallel-item::after {content: \"\";width: 100%;border-bottom: 1px solid gray;flex-grow: 1;}#sk-container-id-1 div.sk-label:hover label.sk-toggleable__label {background-color: #d4ebff;}#sk-container-id-1 div.sk-serial::before {content: \"\";position: absolute;border-left: 1px solid gray;box-sizing: border-box;top: 0;bottom: 0;left: 50%;z-index: 0;}#sk-container-id-1 div.sk-serial {display: flex;flex-direction: column;align-items: center;background-color: white;padding-right: 0.2em;padding-left: 0.2em;position: relative;}#sk-container-id-1 div.sk-item {position: relative;z-index: 1;}#sk-container-id-1 div.sk-parallel {display: flex;align-items: stretch;justify-content: center;background-color: white;position: relative;}#sk-container-id-1 div.sk-item::before, #sk-container-id-1 div.sk-parallel-item::before {content: \"\";position: absolute;border-left: 1px solid gray;box-sizing: border-box;top: 0;bottom: 0;left: 50%;z-index: -1;}#sk-container-id-1 div.sk-parallel-item {display: flex;flex-direction: column;z-index: 1;position: relative;background-color: white;}#sk-container-id-1 div.sk-parallel-item:first-child::after {align-self: flex-end;width: 50%;}#sk-container-id-1 div.sk-parallel-item:last-child::after {align-self: flex-start;width: 50%;}#sk-container-id-1 div.sk-parallel-item:only-child::after {width: 0;}#sk-container-id-1 div.sk-dashed-wrapped {border: 1px dashed gray;margin: 0 0.4em 0.5em 0.4em;box-sizing: border-box;padding-bottom: 0.4em;background-color: white;}#sk-container-id-1 div.sk-label label {font-family: monospace;font-weight: bold;display: inline-block;line-height: 1.2em;}#sk-container-id-1 div.sk-label-container {text-align: center;}#sk-container-id-1 div.sk-container {/* jupyter's `normalize.less` sets `[hidden] { display: none; }` but bootstrap.min.css set `[hidden] { display: none !important; }` so we also need the `!important` here to be able to override the default hidden behavior on the sphinx rendered scikit-learn.org. See: https://github.com/scikit-learn/scikit-learn/issues/21755 */display: inline-block !important;position: relative;}#sk-container-id-1 div.sk-text-repr-fallback {display: none;}</style><div id=\"sk-container-id-1\" class=\"sk-top-container\"><div class=\"sk-text-repr-fallback\"><pre>LogisticRegression(C=1, max_iter=10000, n_jobs=-1, random_state=0)</pre><b>In a Jupyter environment, please rerun this cell to show the HTML representation or trust the notebook. <br />On GitHub, the HTML representation is unable to render, please try loading this page with nbviewer.org.</b></div><div class=\"sk-container\" hidden><div class=\"sk-item\"><div class=\"sk-estimator sk-toggleable\"><input class=\"sk-toggleable__control sk-hidden--visually\" id=\"sk-estimator-id-1\" type=\"checkbox\" checked><label for=\"sk-estimator-id-1\" class=\"sk-toggleable__label sk-toggleable__label-arrow\">LogisticRegression</label><div class=\"sk-toggleable__content\"><pre>LogisticRegression(C=1, max_iter=10000, n_jobs=-1, random_state=0)</pre></div></div></div></div></div>"
            ]
          },
          "metadata": {},
          "execution_count": 18
        }
      ]
    },
    {
      "cell_type": "code",
      "source": [
        "x_test = []\n",
        "y_test = []\n",
        "for n in tqdm(data['15']):\n",
        "  temp_embs = []\n",
        "  cursor = embs.find({'videoID':n})\n",
        "  if cursor[0]['label'] == False:\n",
        "    continue\n",
        "  l = cursor[0]['label']\n",
        "  e =  cursor[0]['embeddings']\n",
        "  for m in e:\n",
        "    temp_embs.append(m['embedding'])\n",
        "  x_test.append(temp_embs)\n",
        "  y_test.append(l)\n",
        "\n",
        "x_test = [elm for x in x_test for elm in x]\n",
        "y_test = [elm for x in y_test for elm in x]"
      ],
      "metadata": {
        "colab": {
          "base_uri": "https://localhost:8080/"
        },
        "id": "qyjageAgGXh4",
        "outputId": "fb9c1f2f-6867-402e-a19c-2499b6ef5dfb"
      },
      "id": "qyjageAgGXh4",
      "execution_count": 19,
      "outputs": [
        {
          "output_type": "stream",
          "name": "stderr",
          "text": [
            "100%|██████████| 1978/1978 [12:51<00:00,  2.57it/s]\n"
          ]
        }
      ]
    },
    {
      "cell_type": "code",
      "execution_count": 20,
      "id": "CFVUQrXvscwv",
      "metadata": {
        "id": "CFVUQrXvscwv"
      },
      "outputs": [],
      "source": [
        "predictions = logistic_class.predict(x_test)"
      ]
    },
    {
      "cell_type": "code",
      "execution_count": 31,
      "id": "4a55ddfa-ecbc-4f2f-bf5b-f5f1562d423b",
      "metadata": {
        "id": "4a55ddfa-ecbc-4f2f-bf5b-f5f1562d423b",
        "colab": {
          "base_uri": "https://localhost:8080/"
        },
        "outputId": "87075571-8838-4160-ef60-926aff874bb0"
      },
      "outputs": [
        {
          "output_type": "execute_result",
          "data": {
            "text/plain": [
              "0.6890818835834429"
            ]
          },
          "metadata": {},
          "execution_count": 31
        }
      ],
      "source": [
        "from sklearn.metrics import f1_score\n",
        "f1_score(y_test, predictions, average= 'micro')"
      ]
    },
    {
      "cell_type": "code",
      "source": [
        "results = {'real': y_test,\n",
        "           'prediction': predictions.tolist()\n",
        "}\n",
        "\n",
        "with open('logictic_results.json', 'w') as file:\n",
        "    json.dump(results, file, indent=4)\n"
      ],
      "metadata": {
        "id": "n6xCCoBqMXgE"
      },
      "id": "n6xCCoBqMXgE",
      "execution_count": 30,
      "outputs": []
    },
    {
      "cell_type": "code",
      "source": [],
      "metadata": {
        "id": "cBS7TD_6Oj8Q"
      },
      "id": "cBS7TD_6Oj8Q",
      "execution_count": null,
      "outputs": []
    }
  ],
  "metadata": {
    "colab": {
      "collapsed_sections": [
        "6c2bb50a-731b-42c9-ab4e-f634df5498ae",
        "fd0f15f0-6c14-4c0d-b789-8e3324af60cb"
      ],
      "machine_shape": "hm",
      "provenance": []
    },
    "kernelspec": {
      "display_name": "Python 3",
      "name": "python3"
    },
    "language_info": {
      "codemirror_mode": {
        "name": "ipython",
        "version": 3
      },
      "file_extension": ".py",
      "mimetype": "text/x-python",
      "name": "python",
      "nbconvert_exporter": "python",
      "pygments_lexer": "ipython3",
      "version": "3.11.5"
    }
  },
  "nbformat": 4,
  "nbformat_minor": 5
}