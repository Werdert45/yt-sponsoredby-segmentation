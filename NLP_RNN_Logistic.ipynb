{
 "cells": [
  {
   "cell_type": "code",
   "execution_count": 1,
   "id": "HhXgaPGKG2Qm",
   "metadata": {
    "colab": {
     "base_uri": "https://localhost:8080/"
    },
    "id": "HhXgaPGKG2Qm",
    "outputId": "a0f098e6-25f0-4848-8aa9-dd64b0e570cd",
    "tags": []
   },
   "outputs": [],
   "source": [
    "#!pip install pymongo"
   ]
  },
  {
   "cell_type": "code",
   "execution_count": 2,
   "id": "8ee42899-91d7-485d-b7df-1481bef0ccc8",
   "metadata": {
    "id": "8ee42899-91d7-485d-b7df-1481bef0ccc8",
    "tags": []
   },
   "outputs": [],
   "source": [
    "from pymongo import MongoClient\n",
    "from tqdm import tqdm\n",
    "import json\n",
    "import pandas as pd\n",
    "import numpy as np"
   ]
  },
  {
   "cell_type": "markdown",
   "id": "eed101c9-9d80-42e7-a1d0-cf29fe20dc73",
   "metadata": {
    "id": "eed101c9-9d80-42e7-a1d0-cf29fe20dc73",
    "jp-MarkdownHeadingCollapsed": true,
    "tags": []
   },
   "source": [
    "# Extract data"
   ]
  },
  {
   "cell_type": "code",
   "execution_count": 5,
   "id": "18d08920-18d3-40d0-9e52-3e508efb45d0",
   "metadata": {
    "id": "18d08920-18d3-40d0-9e52-3e508efb45d0",
    "tags": []
   },
   "outputs": [],
   "source": [
    "client = MongoClient('mongodb://49.13.173.177:27020/')\n",
    "embs = client.sponsoredbye.embeddings\n",
    "cursor = embs.find({\"embeddings.added_label\": 1})\n",
    "\n",
    "data = []\n",
    "\n",
    "for i, elem in enumerate(cursor):\n",
    "    if i == 1000:                 # 1000 elements \n",
    "        break\n",
    "    data.append(elem)\n",
    "\n",
    "for elem in data:\n",
    "    elem.pop(\"_id\")"
   ]
  },
  {
   "cell_type": "markdown",
   "id": "6c2bb50a-731b-42c9-ab4e-f634df5498ae",
   "metadata": {
    "jp-MarkdownHeadingCollapsed": true,
    "tags": []
   },
   "source": [
    "# Save json"
   ]
  },
  {
   "cell_type": "code",
   "execution_count": null,
   "id": "c1b5ea7d-97ee-4d4f-882c-9e16e7165200",
   "metadata": {
    "id": "c1b5ea7d-97ee-4d4f-882c-9e16e7165200",
    "tags": []
   },
   "outputs": [],
   "source": [
    "json_string = json.dumps(data)\n",
    "file = open(\"data.json\", \"w\")\n",
    "file.write(json_string)\n",
    "file.close()"
   ]
  },
  {
   "cell_type": "markdown",
   "id": "fd0f15f0-6c14-4c0d-b789-8e3324af60cb",
   "metadata": {
    "jp-MarkdownHeadingCollapsed": true,
    "tags": []
   },
   "source": [
    "# Read json"
   ]
  },
  {
   "cell_type": "code",
   "execution_count": null,
   "id": "857faacd-8904-406a-a2ec-69b558bc5955",
   "metadata": {},
   "outputs": [],
   "source": [
    "file_path = 'data.json'\n",
    "\n",
    "with open(file_path, 'r') as file:\n",
    "    data = json.load(file)"
   ]
  },
  {
   "cell_type": "markdown",
   "id": "c79dedc2-d303-44ae-95b3-25e2693c6a83",
   "metadata": {
    "jp-MarkdownHeadingCollapsed": true,
    "tags": []
   },
   "source": [
    "# extract embeddings and labels"
   ]
  },
  {
   "cell_type": "code",
   "execution_count": 6,
   "id": "88d8821a-022c-43b2-a0f9-92205b3502f3",
   "metadata": {
    "id": "88d8821a-022c-43b2-a0f9-92205b3502f3",
    "tags": []
   },
   "outputs": [],
   "source": [
    "\n",
    "\n",
    "tot_embeddings, id_, tot_time, tot_label, tot_add_label  = [],[],[],[],[]\n",
    "\n",
    "for i,video in enumerate(data):\n",
    "    vid_embeddings,vid_label, vid_added_label = [], [], []\n",
    "\n",
    "    t1 = video['end_times']\n",
    "\n",
    "    t2 = video['start_times']\n",
    "\n",
    "    the_id = video['videoID']\n",
    "\n",
    "    for j,segment in enumerate(video['embeddings']):\n",
    "\n",
    "        vid_embeddings.append(segment['embedding'])\n",
    "\n",
    "        vid_label.append(segment['label'])\n",
    "\n",
    "        vid_added_label.append(segment['added_label'])\n",
    "\n",
    "    tot_embeddings.append(vid_embeddings)\n",
    "    tot_time.append([t1,t2])\n",
    "    tot_label.append(vid_label)\n",
    "    tot_add_label.append(vid_added_label)\n",
    "    id_.append(the_id)\n",
    "\n",
    "df_vids = pd.DataFrame({'id_video' :id_,\n",
    "                   'ambeddings' : tot_embeddings,\n",
    "                   'timme_start_end' : tot_time,\n",
    "                   'label':tot_label,\n",
    "                   'label_added': tot_add_label})"
   ]
  },
  {
   "cell_type": "markdown",
   "id": "9aec16ee-907d-4ab8-8829-114865fb2524",
   "metadata": {
    "id": "9aec16ee-907d-4ab8-8829-114865fb2524",
    "tags": []
   },
   "source": [
    "# functions"
   ]
  },
  {
   "cell_type": "code",
   "execution_count": 12,
   "id": "d762c969-7305-46cd-8ad9-b1f0ae516970",
   "metadata": {
    "id": "d762c969-7305-46cd-8ad9-b1f0ae516970",
    "tags": []
   },
   "outputs": [],
   "source": [
    "def extract_embes_labels_logistic(df):\n",
    "    nested_embs = list(df['ambeddings'])\n",
    "    nested_labels = list(df['label'])\n",
    "    return [element for video in nested_embs for element in video], [element for video in nested_labels for element in video]\n",
    "\n",
    "def extract_embes_labels_NN(df):\n",
    "    nested_embs = list(df['ambeddings'])\n",
    "    nested_labels = list(df['label'])\n",
    "    return nested_embs, nested_labels\n",
    "\n"
   ]
  },
  {
   "cell_type": "markdown",
   "id": "4e91c454-fea7-4b3c-885a-1d8bb6a19f8e",
   "metadata": {
    "id": "4e91c454-fea7-4b3c-885a-1d8bb6a19f8e",
    "jp-MarkdownHeadingCollapsed": true,
    "tags": []
   },
   "source": [
    "# Logistic Classifier"
   ]
  },
  {
   "cell_type": "code",
   "execution_count": null,
   "id": "70523b19-eed5-411a-9ca6-2dfa38e4f168",
   "metadata": {
    "id": "70523b19-eed5-411a-9ca6-2dfa38e4f168",
    "tags": []
   },
   "outputs": [],
   "source": [
    "X_train, Y_train = extract_embes_labels_logistic(df_vids.iloc[:800])\n",
    "X_test, Y_test = extract_embes_labels_logistic(df_vids.iloc[800:])"
   ]
  },
  {
   "cell_type": "code",
   "execution_count": 70,
   "id": "0c585c3d-ffa3-49ef-8e57-bebed98bb4e1",
   "metadata": {
    "id": "0c585c3d-ffa3-49ef-8e57-bebed98bb4e1",
    "tags": []
   },
   "outputs": [],
   "source": [
    "from sklearn.linear_model import LogisticRegression\n",
    "from sklearn.metrics import f1_score"
   ]
  },
  {
   "cell_type": "code",
   "execution_count": null,
   "id": "eca6a59e-cf0a-474b-a9b0-ca72fc377120",
   "metadata": {
    "id": "eca6a59e-cf0a-474b-a9b0-ca72fc377120",
    "tags": []
   },
   "outputs": [],
   "source": [
    "logistic_class = LogisticRegression(random_state=0\n",
    "                                     ,n_jobs=-1\n",
    "                                     ,max_iter = 10000\n",
    "                                     ,solver='lbfgs'\n",
    "                                     ,multi_class='auto'\n",
    "                                     ,C = 1 )\n",
    "logistic_class.fit(X_train , Y_train)\n",
    "predictions = logistic_class.predict(X_test)"
   ]
  },
  {
   "cell_type": "code",
   "execution_count": null,
   "id": "8617b13f-2c1b-47ef-808a-214c7066b4a1",
   "metadata": {
    "colab": {
     "base_uri": "https://localhost:8080/"
    },
    "id": "8617b13f-2c1b-47ef-808a-214c7066b4a1",
    "outputId": "5956b17d-dd0f-4462-861e-a1ece32ffd1b",
    "tags": []
   },
   "outputs": [
    {
     "data": {
      "text/plain": [
       "0.7580870769640886"
      ]
     },
     "execution_count": 10,
     "metadata": {},
     "output_type": "execute_result"
    }
   ],
   "source": [
    "f1_score(Y_test, predictions, average=\"macro\")"
   ]
  },
  {
   "cell_type": "markdown",
   "id": "6abacad4-ea5a-4e91-821c-07ac5e87876e",
   "metadata": {
    "id": "6abacad4-ea5a-4e91-821c-07ac5e87876e",
    "tags": []
   },
   "source": [
    "# Neural network classifier"
   ]
  },
  {
   "cell_type": "code",
   "execution_count": 14,
   "id": "8777b934-ad71-4d79-836d-bb7a29e59dc7",
   "metadata": {
    "id": "8777b934-ad71-4d79-836d-bb7a29e59dc7"
   },
   "outputs": [],
   "source": [
    "import tensorflow as tf\n",
    "from tensorflow.keras.models import Sequential\n",
    "from tensorflow.keras.layers import Embedding, Bidirectional, LSTM, Dense, Masking,TimeDistributed\n",
    "from tensorflow.keras.preprocessing.sequence import pad_sequences"
   ]
  },
  {
   "cell_type": "markdown",
   "id": "787b668a-ce1e-43aa-914b-6ac5938bd97c",
   "metadata": {},
   "source": [
    "### Extract embeddings and labels + padding "
   ]
  },
  {
   "cell_type": "code",
   "execution_count": 51,
   "id": "821bfc27-c635-402a-992e-1ee139e60404",
   "metadata": {
    "colab": {
     "base_uri": "https://localhost:8080/"
    },
    "id": "821bfc27-c635-402a-992e-1ee139e60404",
    "outputId": "c1a24e82-a704-4c8f-b589-aa90a865a123",
    "tags": []
   },
   "outputs": [
    {
     "name": "stdout",
     "output_type": "stream",
     "text": [
      "789 768\n"
     ]
    }
   ],
   "source": [
    "X, y = extract_embes_labels_NN(df_vids)\n",
    "\n",
    "max_len = max(len(seq) for seq in X)\n",
    "vector_dim = len(X[0][0])\n",
    "\n",
    "X_padded = pad_sequences(X,dtype='float32', padding='post')\n",
    "y_padded = pad_sequences(y, maxlen=max_len, dtype='float32', padding='post')\n",
    "y_padded = np.expand_dims(y_padded, -1)"
   ]
  },
  {
   "cell_type": "markdown",
   "id": "b223a79a-e0c4-42c2-a557-5edfd2b10be8",
   "metadata": {},
   "source": [
    "### neural network structure"
   ]
  },
  {
   "cell_type": "code",
   "execution_count": 43,
   "id": "608a1bf5-18f6-4122-8c59-f2b96468601a",
   "metadata": {
    "colab": {
     "base_uri": "https://localhost:8080/"
    },
    "id": "608a1bf5-18f6-4122-8c59-f2b96468601a",
    "outputId": "a0850ba5-331c-432a-fe99-b50cb0d848b3",
    "tags": []
   },
   "outputs": [
    {
     "name": "stdout",
     "output_type": "stream",
     "text": [
      "Model: \"sequential_2\"\n",
      "_________________________________________________________________\n",
      " Layer (type)                Output Shape              Param #   \n",
      "=================================================================\n",
      " masking_2 (Masking)         (None, 789, 768)          0         \n",
      "                                                                 \n",
      " bidirectional_2 (Bidirecti  (None, 789, 100)          327600    \n",
      " onal)                                                           \n",
      "                                                                 \n",
      " time_distributed_2 (TimeDi  (None, 789, 1)            101       \n",
      " stributed)                                                      \n",
      "                                                                 \n",
      "=================================================================\n",
      "Total params: 327701 (1.25 MB)\n",
      "Trainable params: 327701 (1.25 MB)\n",
      "Non-trainable params: 0 (0.00 Byte)\n",
      "_________________________________________________________________\n"
     ]
    }
   ],
   "source": [
    "model = Sequential()\n",
    "model.add(Masking(mask_value=0., input_shape=(max_len, vector_dim)))\n",
    "model.add(Bidirectional(LSTM(50, return_sequences=True)))\n",
    "#model.add(Bidirectional(LSTM(50, return_sequences=True)))\n",
    "model.add(TimeDistributed(Dense(1, activation='sigmoid')))\n",
    "model.compile(optimizer='adam', loss='binary_crossentropy', metrics=['accuracy'])\n",
    "model.summary()"
   ]
  },
  {
   "cell_type": "code",
   "execution_count": 44,
   "id": "335a6284-b54a-4b4e-8c38-a3e287adb0a8",
   "metadata": {
    "colab": {
     "base_uri": "https://localhost:8080/"
    },
    "id": "335a6284-b54a-4b4e-8c38-a3e287adb0a8",
    "outputId": "8c5cd8fd-d654-40bb-86c6-d9daadfb6bfa",
    "tags": []
   },
   "outputs": [
    {
     "name": "stdout",
     "output_type": "stream",
     "text": [
      "Epoch 1/10\n",
      "800/800 [==============================] - 264s 321ms/step - loss: 0.1911 - accuracy: 0.9404\n",
      "Epoch 2/10\n",
      "800/800 [==============================] - 250s 312ms/step - loss: 0.1313 - accuracy: 0.9582\n",
      "Epoch 3/10\n",
      "800/800 [==============================] - 252s 315ms/step - loss: 0.1146 - accuracy: 0.9627\n",
      "Epoch 4/10\n",
      "800/800 [==============================] - 254s 317ms/step - loss: 0.1017 - accuracy: 0.9668\n",
      "Epoch 5/10\n",
      "800/800 [==============================] - 252s 315ms/step - loss: 0.0901 - accuracy: 0.9717\n",
      "Epoch 6/10\n",
      "800/800 [==============================] - 253s 317ms/step - loss: 0.0844 - accuracy: 0.9713\n",
      "Epoch 7/10\n",
      "800/800 [==============================] - 258s 322ms/step - loss: 0.0787 - accuracy: 0.9742\n",
      "Epoch 8/10\n",
      "800/800 [==============================] - 253s 316ms/step - loss: 0.0745 - accuracy: 0.9757\n",
      "Epoch 9/10\n",
      "800/800 [==============================] - 253s 317ms/step - loss: 0.0675 - accuracy: 0.9775\n",
      "Epoch 10/10\n",
      "800/800 [==============================] - 252s 315ms/step - loss: 0.0653 - accuracy: 0.9778\n"
     ]
    },
    {
     "data": {
      "text/plain": [
       "<keras.src.callbacks.History at 0x7a219455a6b0>"
      ]
     },
     "execution_count": 44,
     "metadata": {},
     "output_type": "execute_result"
    }
   ],
   "source": [
    "model.fit(X_padded[:800], padded_targets[:800], epochs=10, batch_size=1)"
   ]
  },
  {
   "cell_type": "code",
   "execution_count": null,
   "id": "e7e19cb7-d19f-4ace-b6cd-ec425eba6f0a",
   "metadata": {
    "id": "e7e19cb7-d19f-4ace-b6cd-ec425eba6f0a"
   },
   "outputs": [],
   "source": []
  },
  {
   "cell_type": "code",
   "execution_count": null,
   "id": "QU2--IxEjHM8",
   "metadata": {
    "id": "QU2--IxEjHM8"
   },
   "outputs": [],
   "source": []
  },
  {
   "cell_type": "code",
   "execution_count": 45,
   "id": "9d6c05ce-3ccd-442b-9843-ec7c549ed6f0",
   "metadata": {
    "colab": {
     "base_uri": "https://localhost:8080/"
    },
    "id": "9d6c05ce-3ccd-442b-9843-ec7c549ed6f0",
    "outputId": "0dc7fffe-f77a-47b8-84bb-a80135285f9c"
   },
   "outputs": [
    {
     "name": "stdout",
     "output_type": "stream",
     "text": [
      "7/7 [==============================] - 5s 314ms/step\n"
     ]
    }
   ],
   "source": [
    "predictions = model.predict(X_padded[800:])\n",
    "binary_predictions = (predictions >= 0.5).astype(int)"
   ]
  },
  {
   "cell_type": "code",
   "execution_count": 59,
   "id": "CFVUQrXvscwv",
   "metadata": {
    "id": "CFVUQrXvscwv"
   },
   "outputs": [],
   "source": [
    "# remove the padded part from the results. Note I use directly the unpadded labels 'y_test' to get the lenghts\n",
    "y_test = y[800:]",
    "cr_bin_predictions = []\n",
    "for j,n in enumerate(y_test):\n",
    "    i = len(n)\n",
    "    cr_bin_predictions.append(binary_predictions[j][:i])\n"
   ]
  },
  {
   "cell_type": "code",
   "execution_count": 73,
   "id": "4a55ddfa-ecbc-4f2f-bf5b-f5f1562d423b",
   "metadata": {
    "colab": {
     "base_uri": "https://localhost:8080/"
    },
    "id": "4a55ddfa-ecbc-4f2f-bf5b-f5f1562d423b",
    "outputId": "7fa4bcad-4e8b-4be0-880a-270473cd86f4"
   },
   "outputs": [
    {
     "name": "stdout",
     "output_type": "stream",
     "text": [
      "27024 27024\n"
     ]
    },
    {
     "data": {
      "text/plain": [
       "0.9030000527159652"
      ]
     },
     "execution_count": 73,
     "metadata": {},
     "output_type": "execute_result"
    }
   ],
   "source": [
    "predictions_ = [x for vec in cr_bin_predictions for x in vec]\n",
    "real = [x for vec in y_test for x in vec]\n",
    "print(len(predictions_),len(real))\n",
    "f1_score(real, predictions_, average=\"macro\")"
   ]
  },
  {
   "cell_type": "code",
   "execution_count": null,
   "id": "iP9c9CMd5-T4",
   "metadata": {
    "id": "iP9c9CMd5-T4"
   },
   "outputs": [],
   "source": []
  },
  {
   "cell_type": "code",
   "execution_count": null,
   "id": "8vPNnPvu5-89",
   "metadata": {
    "id": "8vPNnPvu5-89"
   },
   "outputs": [],
   "source": []
  },
  {
   "cell_type": "code",
   "execution_count": null,
   "id": "DEGia3a65_yl",
   "metadata": {
    "id": "DEGia3a65_yl"
   },
   "outputs": [],
   "source": []
  }
 ],
 "metadata": {
  "colab": {
   "machine_shape": "hm",
   "provenance": []
  },
  "kernelspec": {
   "display_name": "Python 3 (ipykernel)",
   "language": "python",
   "name": "python3"
  },
  "language_info": {
   "codemirror_mode": {
    "name": "ipython",
    "version": 3
   },
   "file_extension": ".py",
   "mimetype": "text/x-python",
   "name": "python",
   "nbconvert_exporter": "python",
   "pygments_lexer": "ipython3",
   "version": "3.11.5"
  }
 },
 "nbformat": 4,
 "nbformat_minor": 5
}
