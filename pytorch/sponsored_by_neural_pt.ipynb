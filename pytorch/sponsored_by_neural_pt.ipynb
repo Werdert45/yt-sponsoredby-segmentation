{
 "cells": [
  {
   "cell_type": "markdown",
   "metadata": {
    "id": "te2QaNLQ1lPm"
   },
   "source": [
    "# Add punctuation to text:\n",
    "### given a dataframe with the text in one column:"
   ]
  },
  {
   "cell_type": "code",
   "execution_count": null,
   "metadata": {
    "id": "XzxL5F4o1s5U"
   },
   "outputs": [],
   "source": [
    "!pip install deepmultilingualpunctuation"
   ]
  },
  {
   "cell_type": "code",
   "execution_count": null,
   "metadata": {
    "id": "x4tSeQ0nzlaN"
   },
   "outputs": [],
   "source": [
    "from deepmultilingualpunctuation import PunctuationModel\n",
    "import pandas as pd\n",
    "\n",
    "df = pd.read_csv('text.csv')\n",
    "\n",
    "\n",
    "def add_punctuation(text, model):\n",
    "  return model.restore_punctuation(text)\n",
    "\n",
    "model_punctuation = PunctuationModel()\n",
    "df['text'] = df['text'].apply(add_punctuation, arg=(model_punctuation))\n"
   ]
  },
  {
   "cell_type": "markdown",
   "metadata": {
    "id": "afJmxx-A3XrU"
   },
   "source": [
    "# create the embeddings"
   ]
  },
  {
   "cell_type": "code",
   "execution_count": null,
   "metadata": {
    "id": "_Pj90e-f3bSB"
   },
   "outputs": [],
   "source": [
    "!pip install sentence-transformers"
   ]
  },
  {
   "cell_type": "code",
   "execution_count": null,
   "metadata": {
    "id": "Fpl1RHKh3j6K"
   },
   "outputs": [],
   "source": [
    "from sentence_transformers import SentenceTransformer\n",
    "import re\n",
    "model_embedding = SentenceTransformer('sentence-transformers/sentence-t5-base')\n",
    "\n",
    "def split_text(text):\n",
    "  split_text = re.split(r'[,.?!:;]', text)\n",
    "  split_text = [part.strip() for part in split_text if part.strip()]\n",
    "  return split_text\n",
    "\n",
    "\n",
    "def generate_embeddings(text_list, model):\n",
    "  return model.encode(text_list)\n"
   ]
  },
  {
   "cell_type": "code",
   "execution_count": null,
   "metadata": {
    "id": "nGLgTsPj6F_X"
   },
   "outputs": [],
   "source": [
    "df['text'] = df['text'].apply(split_text)\n",
    "df['embeddings'] = df['text'].apply(generate_embeddings)\n"
   ]
  },
  {
   "cell_type": "markdown",
   "metadata": {
    "id": "ZTD_lm3A7fQ5"
   },
   "source": [
    "# Pytorch model"
   ]
  },
  {
   "cell_type": "code",
   "execution_count": null,
   "metadata": {
    "id": "SMlxi2ji7ilx"
   },
   "outputs": [],
   "source": [
    "import torch\n",
    "import torch.nn as nn\n",
    "import torch.nn.functional as F\n",
    "\n",
    "\n",
    "def pad_and_convert_to_tensor(sequences, max_len=None, pad_value=0.0):\n",
    "\n",
    "    if max_len is None:\n",
    "        max_len = max(len(seq) for seq in sequences)\n",
    "\n",
    "    padded_sequences = []\n",
    "    for seq in sequences:\n",
    "        padded_seq = np.pad(seq, ((0, max_len - len(seq)), (0, 0)), mode='constant', constant_values=pad_value)\n",
    "        padded_sequences.append(padded_seq)\n",
    "\n",
    "    padded_sequences = np.array(padded_sequences)\n",
    "    return torch.tensor(padded_sequences, dtype=torch.float32)\n",
    "\n",
    "class Masking(nn.Module):\n",
    "    def __init__(self, mask_value=0.0):\n",
    "        super(Masking, self).__init__()\n",
    "        self.mask_value = mask_value\n",
    "\n",
    "    def forward(self, x):\n",
    "        mask = (x != self.mask_value).float()\n",
    "        return x * mask, mask\n",
    "\n",
    "\n",
    "class TimeDistributed(nn.Module):\n",
    "    def __init__(self, module):\n",
    "        super(TimeDistributed, self).__init__()\n",
    "        self.module = module\n",
    "\n",
    "    def forward(self, x):\n",
    "        # x: (batch_size, time_steps, input_size)\n",
    "        batch_size, time_steps, input_size = x.size()\n",
    "\n",
    "        # Reshape input tensor to (batch_size * time_steps, input_size)\n",
    "        x = x.contiguous().view(batch_size * time_steps, input_size)\n",
    "\n",
    "        # Apply the module\n",
    "        x = self.module(x)\n",
    "\n",
    "        # Reshape the output to (batch_size, time_steps, output_size)\n",
    "        output_size = x.size(-1)\n",
    "        x = x.contiguous().view(batch_size, time_steps, output_size)\n",
    "\n",
    "        return x\n",
    "\n",
    "class BiRNNModel(nn.Module):\n",
    "    def __init__(self, input_size, hidden_size, output_size, mask_value=0.0):\n",
    "        super(BiRNNModel, self).__init__()\n",
    "\n",
    "        self.masking = Masking(mask_value=mask_value)\n",
    "        self.rnn = nn.LSTM(input_size, hidden_size, batch_first=True, bidirectional=True)\n",
    "        self.time_distributed = TimeDistributed(nn.Linear(hidden_size * 2, output_size))\n",
    "\n",
    "    def forward(self, x):\n",
    "        x, mask = self.masking(x)\n",
    "        x, _ = self.rnn(x)\n",
    "        x = self.time_distributed(x)\n",
    "        return x, mask\n"
   ]
  },
  {
   "cell_type": "code",
   "execution_count": null,
   "metadata": {
    "id": "OVAt1zM_-7XZ"
   },
   "outputs": [],
   "source": [
    "padded_tensor = pad_and_convert_to_tensor(sequences, pad_value=0.0)\n",
    "\n",
    "\n",
    "# Parameters\n",
    "input_size = 10  # Number of input features\n",
    "hidden_size = 20 # Number of features in the hidden state\n",
    "output_size = 2  # Number of output features\n",
    "mask_value = 0.0\n",
    "\n",
    "# Initialize the model\n",
    "model = BiRNNModel(input_size, hidden_size, output_size, mask_value)\n",
    "\n",
    "# Dummy input (batch_size, time_steps, input_size)\n",
    "dummy_input = torch.tensor([[[1, 2, 3, 4, 5, 6, 7, 8, 9, 10],\n",
    "                             [0, 0, 0, 0, 0, 0, 0, 0, 0, 0],\n",
    "                             [11, 12, 13, 14, 15, 16, 17, 18, 19, 20]]], dtype=torch.float32)\n",
    "\n",
    "# Forward pass\n",
    "output, mask = model(dummy_input)\n",
    "\n",
    "print(\"Output:\", output)\n",
    "print(\"Mask:\", mask)"
   ]
  }
 ],
 "metadata": {
  "colab": {
   "provenance": []
  },
  "kernelspec": {
   "display_name": "Python 3 (ipykernel)",
   "language": "python",
   "name": "python3"
  },
  "language_info": {
   "codemirror_mode": {
    "name": "ipython",
    "version": 3
   },
   "file_extension": ".py",
   "mimetype": "text/x-python",
   "name": "python",
   "nbconvert_exporter": "python",
   "pygments_lexer": "ipython3",
   "version": "3.11.5"
  }
 },
 "nbformat": 4,
 "nbformat_minor": 4
}
