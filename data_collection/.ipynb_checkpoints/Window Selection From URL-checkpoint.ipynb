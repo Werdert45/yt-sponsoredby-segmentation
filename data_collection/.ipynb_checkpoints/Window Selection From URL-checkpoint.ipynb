{
 "cells": [
  {
   "cell_type": "code",
   "execution_count": 132,
   "id": "310d5cac-07fd-43f7-a0d6-1bf685968290",
   "metadata": {},
   "outputs": [],
   "source": [
    "from youtube_transcript_api import YouTubeTranscriptApi\n",
    "from urllib.parse import urlparse, parse_qs\n",
    "from pytube import YouTube\n",
    "import re\n",
    "from IPython.display import clear_output"
   ]
  },
  {
   "cell_type": "code",
   "execution_count": 105,
   "id": "d0c8d5d0-882e-48b2-8b16-ec40659b472c",
   "metadata": {},
   "outputs": [],
   "source": [
    "def get_video_description(url):\n",
    "    video = YouTube(url)\n",
    "    return video.description, video.title"
   ]
  },
  {
   "cell_type": "code",
   "execution_count": 106,
   "id": "a8ebd0fb-8a54-4192-8c31-e32f2cd6758d",
   "metadata": {},
   "outputs": [],
   "source": [
    "def get_video_id(url):\n",
    "    \"\"\"\n",
    "    Examples:\n",
    "    - http://youtu.be/SA2iWivDJiE\n",
    "    - http://www.youtube.com/watch?v=_oPAwA_Udwc&feature=feedu\n",
    "    - http://www.youtube.com/embed/SA2iWivDJiE\n",
    "    - http://www.youtube.com/v/SA2iWivDJiE?version=3&amp;hl=en_US\n",
    "    \"\"\"\n",
    "    query = urlparse(url)\n",
    "    if query.hostname == 'youtu.be':\n",
    "        return query.path[1:]\n",
    "    if query.hostname in ('www.youtube.com', 'youtube.com'):\n",
    "        if query.path == '/watch':\n",
    "            p = parse_qs(query.query)\n",
    "            return p['v'][0]\n",
    "        if query.path[:7] == '/embed/':\n",
    "            return query.path.split('/')[2]\n",
    "        if query.path[:3] == '/v/':\n",
    "            return query.path.split('/')[2]\n",
    "    # fail?\n",
    "    return None"
   ]
  },
  {
   "cell_type": "code",
   "execution_count": 107,
   "id": "e273979a-f3b9-4768-81e0-c53553b2484d",
   "metadata": {},
   "outputs": [],
   "source": [
    "def get_video_info(url):\n",
    "    description, title = get_video_description(url)\n",
    "    video_id = get_video_id(url)\n",
    "    transcript = YouTubeTranscriptApi.get_transcript(video_id)\n",
    "    \n",
    "    return title, description, transcript"
   ]
  },
  {
   "cell_type": "code",
   "execution_count": 108,
   "id": "4f41f5c6-7d31-4558-a99e-5a6cec06f258",
   "metadata": {},
   "outputs": [],
   "source": [
    "video_url = \"https://www.youtube.com/watch?v=jTne6FftNAI\"\n",
    "\n",
    "title, description, transcript = get_video_info(video_url)"
   ]
  },
  {
   "cell_type": "markdown",
   "id": "8dcbdd83-e560-4b45-a0f1-7df389aed3f9",
   "metadata": {},
   "source": [
    "### Get Sponsor\n",
    "Get the ad url as this is always shown in the description and check when this part is mentioned."
   ]
  },
  {
   "cell_type": "code",
   "execution_count": 109,
   "id": "cec68e8a-11c9-4b1c-be2a-90eb59d5685e",
   "metadata": {},
   "outputs": [],
   "source": [
    "filtered_list = [\"youtu\", \"instagram\", \"twitter\", \"http://\"]\n",
    "\n",
    "def get_possible_ads(description, filtered_list=filtered_list):\n",
    "    possible_ads = []\n",
    "\n",
    "    urls = re.findall(\"(?P<url>https?://[^\\s]+)\", description)\n",
    "    for url in urls:\n",
    "        if not any(ext in url for ext in filtered_list):\n",
    "            if \".com\" in url:\n",
    "                url = url.split(\".com\")[0]\n",
    "            elif \".org\" in url:\n",
    "                url = url.split(\".org\")[0]\n",
    "            \n",
    "            possible_ads.append(url.split(\"/\")[2])\n",
    "            \n",
    "            \n",
    "    return possible_ads\n",
    "    "
   ]
  },
  {
   "cell_type": "code",
   "execution_count": 110,
   "id": "3a715d8a-12f5-459b-9553-6a24428f7594",
   "metadata": {},
   "outputs": [],
   "source": [
    "sponsor = get_possible_ads(description)[0]"
   ]
  },
  {
   "cell_type": "markdown",
   "id": "97c0812c-4c00-4240-a628-e3f1cc95d163",
   "metadata": {},
   "source": [
    "### Lookup Sponsor\n",
    "Lookup the sponsor in the transcripts and if there is a mention, get a window around it to manually indicate where it is mentioned."
   ]
  },
  {
   "cell_type": "code",
   "execution_count": 124,
   "id": "a74c1772-b509-4477-9eb2-840258d26de8",
   "metadata": {},
   "outputs": [],
   "source": [
    "def get_sponsored_window(transcript, sponsor, window_size=5):\n",
    "    begin_set = False\n",
    "\n",
    "    for i, elem in enumerate(transcript):\n",
    "        if sponsor in elem['text']:\n",
    "            if not begin_set:\n",
    "                # Set the start window of the split\n",
    "                begin_set = True\n",
    "                if (i - window_size) > 0:\n",
    "                    begin = i - window_size\n",
    "                else:\n",
    "                    begin = 0\n",
    "            # Set the end window of the split\n",
    "            if (i+5) <= len(transcript)-1:\n",
    "                end = i + window_size\n",
    "            else:\n",
    "                end = len(transcript)\n",
    "    if begin_set:\n",
    "        return transcript[begin:end], begin\n",
    "    else:\n",
    "        return [], 0\n",
    "    \n",
    "        "
   ]
  },
  {
   "cell_type": "code",
   "execution_count": 126,
   "id": "6ad06225-0369-4ce7-ba03-d1ef89235f50",
   "metadata": {},
   "outputs": [],
   "source": [
    "window, begin_window = get_sponsored_window(transcript, sponsor)"
   ]
  },
  {
   "cell_type": "code",
   "execution_count": 130,
   "id": "f46623f2-2a4a-40fa-8c6f-5fbbb7575538",
   "metadata": {},
   "outputs": [],
   "source": [
    "def set_window(window, begin_window):\n",
    "    for i, elem in enumerate(window):\n",
    "        print(i, elem['text'])\n",
    "    \n",
    "    start = input(\"Indicate start index: \")\n",
    "    end = input(\"Indicate end index: \")\n",
    "    \n",
    "    return begin_window + int(start), begin_window + int(end)"
   ]
  },
  {
   "cell_type": "markdown",
   "id": "a6afbe70-c3c5-4951-894a-fff73dbb130a",
   "metadata": {},
   "source": [
    "### Complete Code\n",
    "Complete code to input youtube url and set the window"
   ]
  },
  {
   "cell_type": "code",
   "execution_count": 135,
   "id": "0acb3462-6588-4226-8249-961fff98164a",
   "metadata": {},
   "outputs": [
    {
     "name": "stdout",
     "output_type": "stream",
     "text": [
      "0 yeah I've seen that study no no that's a\n",
      "1 real that's a real study I've seen that\n",
      "2 before are people who send feet pics\n",
      "3 better at\n",
      "4 sex you know what maybe I should turn on\n",
      "5 expressvpn before I search this guys\n",
      "6 today's sponsor is expressvpn you don't\n",
      "7 use the bathroom with the door wide open\n",
      "8 do you just like you don't go on a\n",
      "9 jubilee video and talk about your past\n",
      "10 sexual experiences well just like you\n",
      "11 don't do those things you also shouldn't\n",
      "12 use the internet without protecting\n",
      "13 yourself expressvpn creates a secure\n",
      "14 tunnel between your device and the\n",
      "15 internet so it's safe and sound from\n",
      "16 third parties viewing your private data\n",
      "17 in other words it closes the bathroom\n",
      "18 door so you can drop a deuce in private\n",
      "19 it closes the window so that no one's in\n",
      "20 there let me get a sniff of that are you\n",
      "21 pooping let me get a sniff no\n",
      "22 that's what expressvpn does with\n",
      "23 expressvpn I can unblock shows like\n",
      "24 Brooklyn Nine-Nine here in the US where\n",
      "25 it's typically unavailable just by\n",
      "26 changing my location plus they have 94\n",
      "27 countries that you can choose to appear\n",
      "28 from so you can you know access content\n",
      "29 from sites and services uh only\n",
      "30 available in those countries find out\n",
      "31 how you can get three months of\n",
      "32 expressvpn free by gonna expressvpn.com\n",
      "33 or just hit the link in the description\n",
      "34 alright back to the video go lower I\n",
      "35 think I want to switch with you yeah\n",
      "36 okay I'd back you up with me too the\n"
     ]
    },
    {
     "name": "stdin",
     "output_type": "stream",
     "text": [
      "Indicate start index:  5\n",
      "Indicate end index:  30\n"
     ]
    }
   ],
   "source": [
    "def getSponsoredSegment(video_url, filtered_list, window_size):\n",
    "    title, description, transcript = get_video_info(video_url)\n",
    "    sponsor = get_possible_ads(description, filtered_list)[0] # For now only get first possibility TODO: add checker to see if these sponsors occur and count and get the longest list (most occuring)\n",
    "    \n",
    "    window, begin_window = get_sponsored_window(transcript, sponsor)\n",
    "    start, end = set_window(window, begin_window)\n",
    "    \n",
    "    # Clear output\n",
    "    clear_output(wait=True)\n",
    "\n",
    "    video_obj = {\n",
    "        \"title\": title,\n",
    "        \"description\": description,\n",
    "        \"transcript\": transcript,\n",
    "        \"segment\": transcript[start:end+1],\n",
    "        \"start\": start,\n",
    "        \"end\": end+1,\n",
    "        \"sponsor\": sponsor\n",
    "    }\n",
    "    \n",
    "    return video_obj\n",
    "\n",
    "video_obj = getSponsoredSegment(video_url, filtered_list, 5)    "
   ]
  },
  {
   "cell_type": "markdown",
   "id": "0a9ab16f-5db3-4824-aee9-e8d1fe880887",
   "metadata": {},
   "source": [
    "### Save Data\n",
    "Save the data to a pandas dataframe\n",
    "TODO"
   ]
  },
  {
   "cell_type": "code",
   "execution_count": null,
   "id": "e01150fa-19de-4ced-9612-c8d2b3fbcc29",
   "metadata": {},
   "outputs": [],
   "source": []
  }
 ],
 "metadata": {
  "kernelspec": {
   "display_name": "Python 3 (ipykernel)",
   "language": "python",
   "name": "python3"
  },
  "language_info": {
   "codemirror_mode": {
    "name": "ipython",
    "version": 3
   },
   "file_extension": ".py",
   "mimetype": "text/x-python",
   "name": "python",
   "nbconvert_exporter": "python",
   "pygments_lexer": "ipython3",
   "version": "3.9.7"
  }
 },
 "nbformat": 4,
 "nbformat_minor": 5
}
